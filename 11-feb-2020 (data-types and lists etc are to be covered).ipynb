{
 "cells": [
  {
   "cell_type": "code",
   "execution_count": 3,
   "metadata": {},
   "outputs": [
    {
     "name": "stdout",
     "output_type": "stream",
     "text": [
      "this is all for comment\n"
     ]
    }
   ],
   "source": [
    "# this is python comment\n",
    "\"\"\"\n",
    "hi iam hassan i am front end web develper\n",
    "and this is another way of  commenting in python \n",
    "\n",
    "\"\"\"\n",
    "print(\"this is all for comment\")\n",
    "\n"
   ]
  },
  {
   "cell_type": "code",
   "execution_count": 6,
   "metadata": {},
   "outputs": [
    {
     "name": "stdout",
     "output_type": "stream",
     "text": [
      "<class 'complex'>\n",
      "<class 'float'>\n",
      "<class 'int'>\n",
      "3.0\n",
      "2\n",
      "(2.3+0j)\n"
     ]
    }
   ],
   "source": [
    "# to determine the instance of any variable we use type() function on python \n",
    "x=2.3\n",
    "y=1j\n",
    "z=3\n",
    "print(type(y))\n",
    "print(type(x))\n",
    "print(type(z))\n",
    "\n",
    "#to change type of any variable we can simply apply\n",
    "print(float(z))\n",
    "print(int(x))\n",
    "print(complex(x))\n",
    "\n"
   ]
  },
  {
   "cell_type": "code",
   "execution_count": 8,
   "metadata": {},
   "outputs": [
    {
     "name": "stdout",
     "output_type": "stream",
     "text": [
      "82\n",
      "28\n",
      "2\n",
      "6\n",
      "71\n"
     ]
    }
   ],
   "source": [
    "#python random no module\n",
    "import random\n",
    "print(random.randrange(1,101))\n",
    "print(random.randrange(1,101))\n",
    "print(random.randrange(1,101))\n",
    "print(random.randrange(1,101))\n",
    "print(random.randrange(1,101))"
   ]
  },
  {
   "cell_type": "code",
   "execution_count": 15,
   "metadata": {},
   "outputs": [
    {
     "name": "stdout",
     "output_type": "stream",
     "text": [
      "enter any no  between 1 to 11: 5\n",
      "AUTO GENERATED NO : 7\n",
      "better luck next time\n"
     ]
    }
   ],
   "source": [
    "import random\n",
    "no=int(input(\"enter any no  between 1 to 11: \"))\n",
    "cal=random.randrange(1,11) \n",
    "print(\"AUTO GENERATED NO :\",cal)\n",
    "if no==cal:\n",
    "    print(\"you won\")\n",
    "else:\n",
    "    print(\"better luck next time\")"
   ]
  },
  {
   "cell_type": "code",
   "execution_count": 5,
   "metadata": {},
   "outputs": [
    {
     "name": "stdout",
     "output_type": "stream",
     "text": [
      "e   o\n",
      "enter any word: hasssan.jafri\n",
      "h a n\n"
     ]
    }
   ],
   "source": [
    "#python string arrays \n",
    "a = \"Hello, World!\"\n",
    "print(a[1],a[6],a[8])\n",
    "b=input(\"enter any word: \")\n",
    "\n",
    "print(b[0],b[1],b[6])"
   ]
  },
  {
   "cell_type": "code",
   "execution_count": 8,
   "metadata": {},
   "outputs": [
    {
     "name": "stdout",
     "output_type": "stream",
     "text": [
      "saan j\n",
      "an.jafr\n"
     ]
    }
   ],
   "source": [
    "#slicing in string\n",
    "a=\"hasaan jafri\"\n",
    "print(a[2:8])\n",
    "\n",
    "#negative indexing\n",
    "print(b[-8:-1])"
   ]
  },
  {
   "cell_type": "code",
   "execution_count": 10,
   "metadata": {},
   "outputs": [
    {
     "name": "stdout",
     "output_type": "stream",
     "text": [
      "12 12 13\n"
     ]
    }
   ],
   "source": [
    "#string length we have len() which can take only one argument at a time \n",
    "x=\"hassan jafri\"\n",
    "print(len(a),len(x),len(b))"
   ]
  },
  {
   "cell_type": "code",
   "execution_count": 15,
   "metadata": {},
   "outputs": [
    {
     "name": "stdout",
     "output_type": "stream",
     "text": [
      "hasaan jafri\n",
      " i study in sir syed university of engineering and technology\n",
      " I STUDY IN SIR SYED UNIVERSITY OF ENGINEERING AND TECHNOLOGY\n",
      " I Xtudy In Xir Xyed University Of Engineering And Technology\n",
      "[' I Study In Sir Syed University Of Engineering And Technology']\n"
     ]
    }
   ],
   "source": [
    "# STRING METHODS \n",
    "# 1st we have strip() we use it to remove white space from beggining or ending\n",
    "print(a.strip())\n",
    "\n",
    "# 2nd we have conversion of word or string to lower and upper\n",
    "j=\" I Study In Sir Syed University Of Engineering And Technology\"\n",
    "# lowercase\n",
    "print(j.lower())\n",
    "#uppercase\n",
    "print(j.upper())\n",
    "#Replace\n",
    "print(j.replace('S','X'))\n",
    "\n",
    "#Split\n",
    "print(j.split(\",\"))"
   ]
  },
  {
   "cell_type": "code",
   "execution_count": 18,
   "metadata": {},
   "outputs": [
    {
     "name": "stdout",
     "output_type": "stream",
     "text": [
      "True\n",
      "False\n"
     ]
    }
   ],
   "source": [
    "# Check string (in and not in function for wheather the particuler word is present in string or not)\n",
    "z= \"Sir\" in j\n",
    "print(z)\n",
    "w= \"Syed\" not in j\n",
    "print(w)"
   ]
  },
  {
   "cell_type": "code",
   "execution_count": 19,
   "metadata": {},
   "outputs": [
    {
     "name": "stdout",
     "output_type": "stream",
     "text": [
      "hellow i am hassan and iam student of sir syed univrsity\n"
     ]
    }
   ],
   "source": [
    "#String format\n",
    "#The format() method takes the passed arguments, formats them, and places them in the string where the placeholders {} is \n",
    "#attached\n",
    "a=\"sir syed univrsity\"\n",
    "b=\"hellow i am hassan and iam student of {}\"\n",
    "print(b.format(a))\n"
   ]
  },
  {
   "cell_type": "code",
   "execution_count": 1,
   "metadata": {},
   "outputs": [
    {
     "name": "stdout",
     "output_type": "stream",
     "text": [
      "IEEE format is used for writing Research and theses\n"
     ]
    }
   ],
   "source": [
    "#Example 2\n",
    "a=\"IEEE\"\n",
    "B=\"Research\"\n",
    "c=\"theses\"\n",
    "d=\"{} format is used for writing {} and {}\"\n",
    "print(d.format(a,B,c))"
   ]
  },
  {
   "cell_type": "code",
   "execution_count": 2,
   "metadata": {},
   "outputs": [
    {
     "name": "stdout",
     "output_type": "stream",
     "text": [
      "IEEE format is used for writing theses and Research\n"
     ]
    }
   ],
   "source": [
    "#Example 3\n",
    "a=\"IEEE\"\n",
    "B=\"Research\"\n",
    "c=\"theses\"\n",
    "d=\"{0} format is used for writing {2} and {1}\"\n",
    "print(d.format(a,B,c))\n"
   ]
  },
  {
   "cell_type": "code",
   "execution_count": 1,
   "metadata": {},
   "outputs": [
    {
     "name": "stdout",
     "output_type": "stream",
     "text": [
      "i live on  karachi\n"
     ]
    }
   ],
   "source": [
    "#Python lists \n",
    "citys=[\"karachi\",\"lahore\",\"islamabad\",\"multan\",\"faislabad\",\"peshawer\"]\n",
    "print(\"i live on \",citys[0])"
   ]
  },
  {
   "cell_type": "code",
   "execution_count": 5,
   "metadata": {},
   "outputs": [
    {
     "name": "stdout",
     "output_type": "stream",
     "text": [
      "i live in : islamabad\n",
      "the few cities include ['multan', 'faislabad']\n",
      "the few cities :  ['karachi', 'peshawer']\n"
     ]
    }
   ],
   "source": [
    "#negative indexing\n",
    "print(\"i live in :\",citys[-4])\n",
    "\n",
    "#Range of indexes\n",
    "print(\"the few cities include\",citys[3:5])\n",
    "\n",
    "#example 2\n",
    "print(\"the few cities : \",citys[::5])"
   ]
  },
  {
   "cell_type": "code",
   "execution_count": 6,
   "metadata": {},
   "outputs": [
    {
     "name": "stdout",
     "output_type": "stream",
     "text": [
      "['karachi', 'lahore', 'islamabad', 'queeta', 'faislabad', 'peshawer']\n"
     ]
    }
   ],
   "source": [
    "#Change item values lists\n",
    "citys[3]=\"queeta\"\n",
    "print(citys)"
   ]
  },
  {
   "cell_type": "code",
   "execution_count": 10,
   "metadata": {},
   "outputs": [
    {
     "name": "stdout",
     "output_type": "stream",
     "text": [
      "apple\n",
      "banana\n",
      "cherry\n",
      "He is younger son\n"
     ]
    }
   ],
   "source": [
    "#looping in list\n",
    "thislist = [\"apple\", \"banana\", \"cherry\"]\n",
    "for x in thislist:\n",
    "    print(x)\n",
    "#if else in list\n",
    "famil=[\"HASSAN\",\"HAMZA\",\"BISMA\",\"HAMNA\",\"TARIQ\",\"HANIFA\"]\n",
    "if \"HASSAN\" in famil:\n",
    "    print(\"He is younger son\")\n",
    "else:\n",
    "    print(\"not included\")"
   ]
  },
  {
   "cell_type": "code",
   "execution_count": 16,
   "metadata": {},
   "outputs": [
    {
     "name": "stdout",
     "output_type": "stream",
     "text": [
      "11\n",
      "['HASSAN', 'HAMZA', 'BISMA', 'ismail jafri', 'ismail jafri', 'HAMNA', 'TARIQ', 'HANIFA', 'laiq bano', 'laiq bano', 'laiq bano', 'laiq bano']\n",
      "['HASSAN', 'HAMZA', 'BISMA', 'ismail jafri', 'ismail jafri', 'ismail jafri', 'HAMNA', 'TARIQ', 'HANIFA', 'laiq bano', 'laiq bano', 'laiq bano', 'laiq bano']\n",
      "['HASSAN', 'HAMZA', 'BISMA', 'ismail jafri', 'ismail jafri', 'ismail jafri', 'HAMNA', 'TARIQ', 'HANIFA', 'laiq bano', 'laiq bano', 'laiq bano']\n"
     ]
    }
   ],
   "source": [
    "#list functions\n",
    "# 1)len()\n",
    "print(len(famil))\n",
    "\n",
    "# 2)append() for adding item in list\n",
    "famil.append(\"laiq bano\")\n",
    "print(famil)\n",
    "#  3) insert() for adding itemn at any position\n",
    "famil.insert(3,\"ismail jafri\")\n",
    "print(famil)\n",
    "\n",
    "#  4) remove() item from list\n",
    "famil.remove(\"laiq bano\")\n",
    "print(famil)\n"
   ]
  },
  {
   "cell_type": "code",
   "execution_count": 22,
   "metadata": {},
   "outputs": [
    {
     "name": "stdout",
     "output_type": "stream",
     "text": [
      "['HASSAN', 'HAMZA', 'BISMA', 'ismail jafri', 'ismail jafri', 'ismail jafri', 'HAMNA', 'TARIQ', 'HANIFA']\n",
      "['HASSAN', 'HAMZA', 'BISMA', 'ismail jafri', 'ismail jafri', 'HAMNA', 'TARIQ', 'HANIFA']\n"
     ]
    }
   ],
   "source": [
    "# 5) pop() function for removing last item from the list\n",
    "famil.pop()\n",
    "print(famil)\n",
    "\n",
    "# 6) del key worrd  remove the item from specified index\n",
    "del famil[3]\n",
    "print(famil)\n"
   ]
  },
  {
   "cell_type": "code",
   "execution_count": 25,
   "metadata": {},
   "outputs": [
    {
     "name": "stdout",
     "output_type": "stream",
     "text": [
      "[]\n"
     ]
    }
   ],
   "source": [
    "# 7) clear() clears any list \n",
    "famil.clear()\n",
    "print(famil)"
   ]
  },
  {
   "cell_type": "code",
   "execution_count": 26,
   "metadata": {},
   "outputs": [
    {
     "name": "stdout",
     "output_type": "stream",
     "text": [
      "['karachi', 'lahore', 'islamabad', 'multan', 'faislabad', 'peshawer']\n"
     ]
    }
   ],
   "source": [
    "# 8) copy() copies lists\n",
    "list1=[\"karachi\",\"lahore\",\"islamabad\",\"multan\",\"faislabad\",\"peshawer\"]\n",
    "list2=list1.copy()\n",
    "print(list2)"
   ]
  },
  {
   "cell_type": "code",
   "execution_count": 27,
   "metadata": {},
   "outputs": [
    {
     "name": "stdout",
     "output_type": "stream",
     "text": [
      "['karachi', 'lahore', 'islamabad', 'multan', 'faislabad', 'peshawer', 'karachi', 'lahore', 'islamabad', 'multan', 'faislabad', 'peshawer']\n"
     ]
    }
   ],
   "source": [
    "#JOIN TWO LISTS\n",
    "# 1) By using + \n",
    "list3=list1 + list2\n",
    "print(list3)"
   ]
  },
  {
   "cell_type": "code",
   "execution_count": 28,
   "metadata": {},
   "outputs": [
    {
     "name": "stdout",
     "output_type": "stream",
     "text": [
      "['ab', 'bc', 'ac', 'bd', 'ad', 'cd']\n"
     ]
    }
   ],
   "source": [
    "# 2) by using append()\n",
    "List1=[\"ab\",\"bc\",\"ac\"]\n",
    "List2=[\"bd\",\"ad\",\"cd\"]\n",
    "for x in List2:\n",
    "    List1.append(x)\n",
    "print(List1)"
   ]
  },
  {
   "cell_type": "code",
   "execution_count": 29,
   "metadata": {},
   "outputs": [
    {
     "name": "stdout",
     "output_type": "stream",
     "text": [
      "['ab', 'bc', 'ac', 'bd', 'ad', 'cd', 'bd', 'ad', 'cd']\n"
     ]
    }
   ],
   "source": [
    "# 3) using extend()\n",
    "List1.extend(List2)\n",
    "print(List1)"
   ]
  },
  {
   "cell_type": "code",
   "execution_count": null,
   "metadata": {},
   "outputs": [],
   "source": [
    "# WORK END DAY 2 PYTHON SELF PRACTICE\n",
    " # //// NOW TOMORRROW YOU HAVE TO START FROM LIST CONSTRUCTOR"
   ]
  }
 ],
 "metadata": {
  "kernelspec": {
   "display_name": "Python 3",
   "language": "python",
   "name": "python3"
  },
  "language_info": {
   "codemirror_mode": {
    "name": "ipython",
    "version": 3
   },
   "file_extension": ".py",
   "mimetype": "text/x-python",
   "name": "python",
   "nbconvert_exporter": "python",
   "pygments_lexer": "ipython3",
   "version": "3.7.4"
  }
 },
 "nbformat": 4,
 "nbformat_minor": 2
}
