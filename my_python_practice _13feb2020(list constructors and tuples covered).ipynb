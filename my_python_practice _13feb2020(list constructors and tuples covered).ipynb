{
 "cells": [
  {
   "cell_type": "code",
   "execution_count": 1,
   "metadata": {},
   "outputs": [
    {
     "name": "stdout",
     "output_type": "stream",
     "text": [
      "['hasasn', 'hamza', 'shakeeel', 'zaid']\n"
     ]
    }
   ],
   "source": [
    "#List constructors They are also used for adding items of one list to another lists\n",
    "mylist=list((\"hasasn\",\"hamza\",\"shakeeel\",\"zaid\"))\n",
    "print(mylist)"
   ]
  },
  {
   "cell_type": "code",
   "execution_count": 33,
   "metadata": {
    "scrolled": true
   },
   "outputs": [
    {
     "name": "stdout",
     "output_type": "stream",
     "text": [
      "('hasan', 'hammad', 'hamza ')\n",
      "hasan\n",
      "hamza \n",
      "('mukhtar', 'sattar', 'SHERAZ')\n",
      "a\n",
      "x\n",
      "w\n",
      "yes a is present in x\n",
      "4\n",
      "<class 'tuple'>\n",
      "<class 'str'>\n",
      "('u', 'v', 'w', 'z', 'x', 'y', 'z')\n",
      "('u', 'v', 'w', 'z', 'x', 'y', 'z')\n",
      "2\n"
     ]
    }
   ],
   "source": [
    "#Python tuples they are arrange in which they are ordered the content is unchangable\n",
    "mytuple=(\"hasan\",\"hammad\",\"hamza \")\n",
    "print(mytuple)\n",
    "\n",
    "#Access tuple\n",
    "print(mytuple[0])\n",
    "#negative indexing \n",
    "print(mytuple[-1])\n",
    "#Range of indexes\n",
    "list(mytuple[0:2])\n",
    "#Change tuple values \n",
    "#they are unchangable in their orignal format ,to change values we have another way\n",
    "mynew_tuple=(\"mukhtar\",\"sattar\",\"OSAMA\")\n",
    "mynew_tuple2=list(mynew_tuple)\n",
    "mynew_tuple2[2]=\"SHERAZ\"\n",
    "mynew_tuple=tuple(mynew_tuple2)\n",
    "print(mynew_tuple)\n",
    "\n",
    "#loop through tuple\n",
    "thistuple=(\"a\",\"x\",\"w\")\n",
    "for x in thistuple:\n",
    "    print(x)\n",
    "    \n",
    "# Check item exist\n",
    "x=(\"a\",\"b\",\"c\",\"d\")\n",
    "if \"a\" in x :\n",
    "    print(\"yes a is present in x\")\n",
    "    \n",
    "    #Lenbgth of this tuple \n",
    "    print(len(x))\n",
    "    \n",
    "    #Create tuple with one item\n",
    "    tupllle=(\"apple\",) #tuple \n",
    "    print(type(tupllle))\n",
    "    tuplle=(\"apple\") #not a tuple \n",
    "print(type(tuplle))\n",
    "\n",
    "#  To create a tuple with only one item, you have \n",
    "# add a comma after the item, unless \n",
    "#  Python will not recognize the variable as a tuple.\n",
    "\n",
    "# DELETE TUPLE\n",
    "'''\n",
    "S=(\"A\",\"B\",\"C\",\"D\")\n",
    "del S\n",
    "print(S)'''\n",
    "\n",
    "#Join two via + or Tuple constructor \n",
    "t1=(\"u\",\"v\",\"w\",\"z\")\n",
    "t2=(\"x\",\"y\",\"z\")\n",
    "to=t1+t2\n",
    "print(to)\n",
    " \n",
    "    #tuple constructor\n",
    "t3=tuple((to))\n",
    "print(t3)\n",
    "\n",
    "#tuple count function take argument which you want to count i take z here which is present in both t1 and t2\n",
    "V=t3.count(\"z\")\n",
    "print(V)\n",
    "\n",
    "#tuple index function give argument and give the in the index the as output \n",
    "w=t3.index(\"w\")"
   ]
  },
  {
   "cell_type": "code",
   "execution_count": null,
   "metadata": {},
   "outputs": [],
   "source": []
  },
  {
   "cell_type": "code",
   "execution_count": null,
   "metadata": {},
   "outputs": [],
   "source": []
  }
 ],
 "metadata": {
  "kernelspec": {
   "display_name": "Python 3",
   "language": "python",
   "name": "python3"
  },
  "language_info": {
   "codemirror_mode": {
    "name": "ipython",
    "version": 3
   },
   "file_extension": ".py",
   "mimetype": "text/x-python",
   "name": "python",
   "nbconvert_exporter": "python",
   "pygments_lexer": "ipython3",
   "version": "3.7.4"
  }
 },
 "nbformat": 4,
 "nbformat_minor": 2
}
